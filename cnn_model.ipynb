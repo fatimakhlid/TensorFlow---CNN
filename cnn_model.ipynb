{
 "cells": [
  {
   "cell_type": "code",
   "execution_count": null,
   "metadata": {},
   "outputs": [],
   "source": [
    "\n",
    "import os\n",
    "import shutil\n",
    "import scipy\n",
    "import numpy as np\n",
    "import tensorflow as tf\n",
    "from tensorflow import keras as ks "
   ]
  },
  {
   "cell_type": "code",
   "execution_count": null,
   "metadata": {},
   "outputs": [],
   "source": [
    "\n",
    "root_dir = \"PetImages\" \n",
    "\n",
    "training_cats_dir = \"PetImages/Training/cats\" \n",
    "validation_cats_dir = \"PetImages/Validation/cats\"\n",
    "\n",
    "training_dogs_dir = \"PetImages/Training/dogs\" \n",
    "validation_dogs_dir = \"PetImages/Validation/dogs\"\n",
    "\n",
    "for directory in [training_cats_dir,training_dogs_dir,validation_cats_dir,validation_dogs_dir]:\n",
    "    if not os.path.exists(directory):\n",
    "        os.makedirs(directory)\n",
    "\n",
    "\n"
   ]
  },
  {
   "cell_type": "code",
   "execution_count": null,
   "metadata": {},
   "outputs": [],
   "source": [
    "\n",
    "file = os.path.join(\"PetImages\", 'Cat')\n",
    "print(os.listdir(file))\n",
    "#print(os.path.getsize(file))\n",
    "#print(os.listdir(file))"
   ]
  },
  {
   "cell_type": "code",
   "execution_count": null,
   "metadata": {},
   "outputs": [],
   "source": [
    "\n",
    "def split_into_train_validation(root_path, training_set,validation_set, split_size):\n",
    "    print(root_path)\n",
    "    files = []\n",
    "    for filename in os.listdir(root_path):\n",
    "        file = os.path.join(root_path,filename)\n",
    "        if os.path.getsize(file) > 0:\n",
    "            files.append(filename)\n",
    "        else:\n",
    "            print(filename + \" is zero length, so ignorning\")\n",
    "    training_length = int(len(files)*split_size)\n",
    "    print(training_length)\n",
    "    shuffled_set = np.random.choice(files, size = len(files),replace= False)\n",
    "    training = shuffled_set[:training_length]\n",
    "    validation = shuffled_set[training_length:]\n",
    "\n",
    "    for filename in training:\n",
    "        this_file = os.path.join(root_path,filename)\n",
    "        destination_file = os.path.join(training_set,filename)\n",
    "        shutil.copyfile(this_file,destination_file)\n",
    "    \n",
    "    for filename in validation:\n",
    "        this_file = os.path.join(root_path,filename)\n",
    "        destination_file = os.path.join(validation_set,filename)\n",
    "        shutil.copyfile(this_file,destination_file)\n",
    "\n"
   ]
  },
  {
   "cell_type": "code",
   "execution_count": null,
   "metadata": {},
   "outputs": [],
   "source": [
    "\n",
    "splitsize = 0.8 #80 data for the validation set\n",
    "split_into_train_validation(os.path.join(root_dir,'Cat'),training_cats_dir,validation_cats_dir,splitsize)\n",
    "split_into_train_validation(os.path.join(root_dir,'Dog'),training_dogs_dir,validation_dogs_dir,splitsize)\n"
   ]
  },
  {
   "cell_type": "code",
   "execution_count": null,
   "metadata": {},
   "outputs": [],
   "source": [
    "def removed_original_directories():\n",
    "    original_cat_dir = os.path.join(\"PetImages/Cat/\")\n",
    "    original_dog_dir = os.path.join(\"PetImages/Dog/\")\n",
    "    if os.path.exists(original_cat_dir):\n",
    "        shutil.rmtree(original_cat_dir)\n",
    "    else:\n",
    "        print(\"cat directory already removed!\")\n",
    "\n",
    "    if os.path.exists(original_dog_dir):\n",
    "        shutil.rmtree(original_dog_dir)\n",
    "    else:\n",
    "        print(\"Dog directory already removed!\")\n"
   ]
  },
  {
   "cell_type": "code",
   "execution_count": null,
   "metadata": {},
   "outputs": [],
   "source": [
    "def train_validation_generator(training_dir,validation_dir):\n",
    "    train_data_gen = ks.preprocessing.image.ImageDataGenerator(rescale=1.0/255)\n",
    "    train_generator = train_data_gen.flow_from_directory(directory= training_dir,\n",
    "                                                        batch_size = 20,\n",
    "                                                        class_mode= 'binary',\n",
    "                                                        target_size=(150,150))\n",
    "\n",
    "    validation_data_gen = ks.preprocessing.image.ImageDataGenerator(rescale= 1.0/255)\n",
    "    validation_generator = validation_data_gen.flow_from_directory(directory= validation_dir,\n",
    "                                                                batch_size= 20,\n",
    "                                                                class_mode='binary',\n",
    "                                                                target_size=(150,150))\n",
    "    \n",
    "    return train_generator,validation_generator     "
   ]
  },
  {
   "cell_type": "code",
   "execution_count": null,
   "metadata": {},
   "outputs": [],
   "source": [
    "removed_original_directories()\n",
    "train_generator, validation_generator = train_validation_generator(\"PetImages/Training/\",\"PetImages/Validation/\")"
   ]
  },
  {
   "cell_type": "code",
   "execution_count": null,
   "metadata": {},
   "outputs": [],
   "source": [
    "def create_model():\n",
    "    model = ks.models.Sequential([\n",
    "        ks.layers.Conv2D(16,(3,3),activation= 'relu',input_shape = (150,150,3)),\n",
    "        ks.layers.MaxPooling2D(2,2),\n",
    "        ks.layers.Conv2D(32,(3,3),activation= 'relu'),\n",
    "        ks.layers.MaxPooling2D(2,2),\n",
    "        ks.layers.Conv2D(64,(3,3),activation= 'relu'),\n",
    "        ks.layers.MaxPooling2D(2,2),\n",
    "\n",
    "        ks.layers.Flatten(),\n",
    "        ks.layers.Dense(512,activation='relu'),\n",
    "        ks.layers.Dense(1,activation='sigmoid')\n",
    "    ])\n",
    "    model.compile(optimizer=ks.optimizers.RMSprop(learning_rate=0.001),\n",
    "                loss = 'binary_crossentropy',\n",
    "                metrics=['accuracy'])\n",
    "    return model\n",
    "    "
   ]
  },
  {
   "cell_type": "code",
   "execution_count": null,
   "metadata": {},
   "outputs": [],
   "source": [
    "\n",
    "model = create_model()\n",
    "history = model.fit(train_generator,epochs = 5,verbose = 1,validation_data = validation_generator)\n"
   ]
  },
  {
   "cell_type": "code",
   "execution_count": null,
   "metadata": {},
   "outputs": [],
   "source": [
    "import matplotlib.pyplot as plt\n",
    "acc=history.history['accuracy']\n",
    "val_acc=history.history['val_accuracy']\n",
    "loss=history.history['loss']\n",
    "val_loss=history.history['val_loss']\n",
    "\n",
    "epochs=range(len(acc))\n",
    "\n",
    "plt.plot(epochs, acc, 'r', \"Training Accuracy\")\n",
    "plt.plot(epochs, val_acc, 'b', \"Validation Accuracy\")\n",
    "plt.title('Training and validation accuracy')\n",
    "plt.show()\n",
    "print(\"\")\n",
    "\n",
    "plt.plot(epochs, loss, 'r', \"Training Loss\")\n",
    "plt.plot(epochs, val_loss, 'b', \"Validation Loss\")\n",
    "plt.show()\n",
    "\n"
   ]
  },
  {
   "cell_type": "code",
   "execution_count": null,
   "metadata": {},
   "outputs": [],
   "source": [
    "\n",
    "path='1.jpg'\n",
    "img=ks.utils.load_img(path, target_size=(150, 150))\n",
    "\n",
    "x=ks.utils.img_to_array(img)\n",
    "x /= 255\n",
    "x=np.expand_dims(x, axis=0)\n",
    "classes = model.predict(x)\n",
    "plt.imshow(img)\n",
    "if classes >0.5:\n",
    "    print(\" is a dog\")\n",
    "else:\n",
    "    print(\" is a cat\")\n"
   ]
  }
 ],
 "metadata": {
  "kernelspec": {
   "display_name": "snowflakes",
   "language": "python",
   "name": "python3"
  },
  "language_info": {
   "codemirror_mode": {
    "name": "ipython",
    "version": 3
   },
   "file_extension": ".py",
   "mimetype": "text/x-python",
   "name": "python",
   "nbconvert_exporter": "python",
   "pygments_lexer": "ipython3",
   "version": "3.11.4"
  }
 },
 "nbformat": 4,
 "nbformat_minor": 2
}
